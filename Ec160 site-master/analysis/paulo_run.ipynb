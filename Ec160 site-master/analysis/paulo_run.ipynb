{
 "cells": [
  {
   "cell_type": "code",
   "execution_count": 2,
   "metadata": {
    "collapsed": false
   },
   "outputs": [],
   "source": [
    "import numpy as np\n",
    "import pandas as pd\n",
    "\n",
    "import matplotlib.pyplot as plt\n",
    "%matplotlib inline"
   ]
  },
  {
   "cell_type": "code",
   "execution_count": 26,
   "metadata": {
    "collapsed": false
   },
   "outputs": [],
   "source": [
    "data = pd.read_csv(\"../csv/run1479712527340.csv\")"
   ]
  },
  {
   "cell_type": "code",
   "execution_count": 27,
   "metadata": {
    "collapsed": false
   },
   "outputs": [
    {
     "data": {
      "text/html": [
       "<div>\n",
       "<table border=\"1\" class=\"dataframe\">\n",
       "  <thead>\n",
       "    <tr style=\"text-align: right;\">\n",
       "      <th></th>\n",
       "      <th>time</th>\n",
       "      <th>car_id</th>\n",
       "      <th>position</th>\n",
       "      <th>velocity</th>\n",
       "      <th>lane</th>\n",
       "      <th>distance</th>\n",
       "      <th>crashes</th>\n",
       "    </tr>\n",
       "  </thead>\n",
       "  <tbody>\n",
       "    <tr>\n",
       "      <th>0</th>\n",
       "      <td>94</td>\n",
       "      <td>4</td>\n",
       "      <td>608.0</td>\n",
       "      <td>1.5</td>\n",
       "      <td>2</td>\n",
       "      <td>408.0</td>\n",
       "      <td>0</td>\n",
       "    </tr>\n",
       "    <tr>\n",
       "      <th>1</th>\n",
       "      <td>94</td>\n",
       "      <td>0</td>\n",
       "      <td>376.0</td>\n",
       "      <td>1.0</td>\n",
       "      <td>3</td>\n",
       "      <td>376.0</td>\n",
       "      <td>0</td>\n",
       "    </tr>\n",
       "    <tr>\n",
       "      <th>2</th>\n",
       "      <td>94</td>\n",
       "      <td>1</td>\n",
       "      <td>488.0</td>\n",
       "      <td>1.5</td>\n",
       "      <td>3</td>\n",
       "      <td>438.0</td>\n",
       "      <td>0</td>\n",
       "    </tr>\n",
       "    <tr>\n",
       "      <th>3</th>\n",
       "      <td>94</td>\n",
       "      <td>2</td>\n",
       "      <td>750.0</td>\n",
       "      <td>2.0</td>\n",
       "      <td>3</td>\n",
       "      <td>650.0</td>\n",
       "      <td>0</td>\n",
       "    </tr>\n",
       "    <tr>\n",
       "      <th>4</th>\n",
       "      <td>95</td>\n",
       "      <td>4</td>\n",
       "      <td>614.0</td>\n",
       "      <td>1.5</td>\n",
       "      <td>2</td>\n",
       "      <td>414.0</td>\n",
       "      <td>0</td>\n",
       "    </tr>\n",
       "  </tbody>\n",
       "</table>\n",
       "</div>"
      ],
      "text/plain": [
       "   time  car_id  position  velocity  lane  distance  crashes\n",
       "0    94       4     608.0       1.5     2     408.0        0\n",
       "1    94       0     376.0       1.0     3     376.0        0\n",
       "2    94       1     488.0       1.5     3     438.0        0\n",
       "3    94       2     750.0       2.0     3     650.0        0\n",
       "4    95       4     614.0       1.5     2     414.0        0"
      ]
     },
     "execution_count": 27,
     "metadata": {},
     "output_type": "execute_result"
    }
   ],
   "source": [
    "data.head()"
   ]
  },
  {
   "cell_type": "code",
   "execution_count": 28,
   "metadata": {
    "collapsed": false
   },
   "outputs": [
    {
     "name": "stdout",
     "output_type": "stream",
     "text": [
      "hi\n",
      "hi\n",
      "hi\n",
      "hi\n"
     ]
    }
   ],
   "source": [
    "for i in data[\"car_id\"].unique():\n",
    "    print(\"hi\");\n"
   ]
  },
  {
   "cell_type": "code",
   "execution_count": 33,
   "metadata": {
    "collapsed": false
   },
   "outputs": [
    {
     "data": {
      "text/plain": [
       "<matplotlib.legend.Legend at 0x118a08ac8>"
      ]
     },
     "execution_count": 33,
     "metadata": {},
     "output_type": "execute_result"
    },
    {
     "data": {
      "image/png": "[encoded data removed]",
      "text/plain": [
       "<matplotlib.figure.Figure at 0x118cd2128>"
      ]
     },
     "metadata": {},
     "output_type": "display_data"
    }
   ],
   "source": [
    "car_0 = data[data.car_id == 0]\n",
    "plt.plot(car_0.time, car_0.velocity, label = \"0\")\n",
    "\n",
    "car_1 = data[data.car_id == 1]\n",
    "plt.plot(car_1.time, car_1.velocity, label = \"1\")\n",
    "\n",
    "car_2 = data[data.car_id == 2]\n",
    "plt.plot(car_2.time, car_2.velocity, label = \"2\")\n",
    "\n",
    "car_3 = data[data.car_id == 3]\n",
    "plt.plot(car_3.time, car_3.velocity, label = \"3\")\n",
    "\n",
    "plt.legend(loc = \"upper left\")"
   ]
  },
  {
   "cell_type": "code",
   "execution_count": 30,
   "metadata": {
    "collapsed": false
   },
   "outputs": [
    {
     "data": {
      "text/plain": [
       "<matplotlib.legend.Legend at 0x1187b7f28>"
      ]
     },
     "execution_count": 30,
     "metadata": {},
     "output_type": "execute_result"
    },
    {
     "data": {
      "image/png": "[encoded data removed]",
      "text/plain": [
       "<matplotlib.figure.Figure at 0x118a3b080>"
      ]
     },
     "metadata": {},
     "output_type": "display_data"
    }
   ],
   "source": [
    "car_0 = data[data.car_id == 0]\n",
    "plt.plot(car_0.time, car_0.distance, label = \"0\")\n",
    "\n",
    "car_1 = data[data.car_id == 1]\n",
    "plt.plot(car_1.time, car_1.distance, label = \"1\")\n",
    "\n",
    "car_2 = data[data.car_id == 2]\n",
    "plt.plot(car_2.time, car_2.distance, label = \"2\")\n",
    "\n",
    "car_3 = data[data.car_id == 3]\n",
    "plt.plot(car_3.time, car_3.distance, label = \"3\")\n",
    "\n",
    "plt.legend(loc = \"upper left\")"
   ]
  },
  {
   "cell_type": "code",
   "execution_count": null,
   "metadata": {
    "collapsed": true
   },
   "outputs": [],
   "source": []
  }
 ],
 "metadata": {
  "anaconda-cloud": {},
  "kernelspec": {
   "display_name": "Python [conda root]",
   "language": "python",
   "name": "conda-root-py"
  },
  "language_info": {
   "codemirror_mode": {
    "name": "ipython",
    "version": 3
   },
   "file_extension": ".py",
   "mimetype": "text/x-python",
   "name": "python",
   "nbconvert_exporter": "python",
   "pygments_lexer": "ipython3",
   "version": "3.5.2"
  }
 },
 "nbformat": 4,
 "nbformat_minor": 1
}
